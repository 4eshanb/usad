{
  "nbformat": 4,
  "nbformat_minor": 0,
  "metadata": {
    "colab": {
      "name": "USAD_test.ipynb",
      "provenance": [],
      "toc_visible": true
    },
    "kernelspec": {
      "name": "python3",
      "display_name": "Python 3"
    },
    "accelerator": "GPU"
  },
  "cells": [
    {
      "cell_type": "markdown",
      "metadata": {
        "id": "etniX_KTlJ5U"
      },
      "source": [
        "# USAD"
      ]
    },
    {
      "cell_type": "markdown",
      "metadata": {
        "id": "N3jM0qLU8MgZ"
      },
      "source": [
        "## Environment"
      ]
    },
    {
      "cell_type": "code",
      "metadata": {
        "id": "rjheCL2b1Rnw"
      },
      "source": [
        "!rm -r sample_data"
      ],
      "execution_count": 1,
      "outputs": []
    },
    {
      "cell_type": "code",
      "metadata": {
        "id": "e3dDxs8LFZdT",
        "outputId": "ebff804d-1c59-4039-d869-f65907b19712",
        "colab": {
          "base_uri": "https://localhost:8080/",
          "height": 118
        }
      },
      "source": [
        "!git clone https://github.com/manigalati/usad"
      ],
      "execution_count": 2,
      "outputs": [
        {
          "output_type": "stream",
          "text": [
            "Cloning into 'usad'...\n",
            "remote: Enumerating objects: 3, done.\u001b[K\n",
            "remote: Counting objects: 100% (3/3), done.\u001b[K\n",
            "remote: Compressing objects: 100% (3/3), done.\u001b[K\n",
            "remote: Total 66 (delta 0), reused 0 (delta 0), pack-reused 63\u001b[K\n",
            "Unpacking objects: 100% (66/66), done.\n"
          ],
          "name": "stdout"
        }
      ]
    },
    {
      "cell_type": "code",
      "metadata": {
        "id": "te9stFZtFfZu",
        "outputId": "3ca36b3b-dd9a-413c-873f-ab730285ad51",
        "colab": {
          "base_uri": "https://localhost:8080/",
          "height": 34
        }
      },
      "source": [
        "%cd usad"
      ],
      "execution_count": 3,
      "outputs": [
        {
          "output_type": "stream",
          "text": [
            "/content/usad\n"
          ],
          "name": "stdout"
        }
      ]
    },
    {
      "cell_type": "code",
      "metadata": {
        "id": "6u1DGKsAlLF-"
      },
      "source": [
        "import numpy as np\n",
        "import pandas as pd\n",
        "import matplotlib.pyplot as plt\n",
        "import seaborn as sns\n",
        "import torch\n",
        "import torch.nn as nn\n",
        "\n",
        "from utils import *\n",
        "from usad import *"
      ],
      "execution_count": 4,
      "outputs": []
    },
    {
      "cell_type": "code",
      "metadata": {
        "id": "4AzWlDBI_djV",
        "outputId": "7a8d0c19-2389-461b-c0be-3427a25dda91",
        "colab": {
          "base_uri": "https://localhost:8080/",
          "height": 34
        }
      },
      "source": [
        "!nvidia-smi -L\n",
        "\n",
        "device = get_default_device()"
      ],
      "execution_count": 5,
      "outputs": [
        {
          "output_type": "stream",
          "text": [
            "GPU 0: Tesla T4 (UUID: GPU-8c7d4b22-c8a2-1d4d-9981-7f39110d869c)\n"
          ],
          "name": "stdout"
        }
      ]
    },
    {
      "cell_type": "markdown",
      "metadata": {
        "id": "1crx5rGP9ONf"
      },
      "source": [
        "## EDA - Data Pre-Processing"
      ]
    },
    {
      "cell_type": "markdown",
      "metadata": {
        "id": "vxofeE469RhT"
      },
      "source": [
        "### Download dataset"
      ]
    },
    {
      "cell_type": "code",
      "metadata": {
        "id": "i95DlAZI1G_p",
        "outputId": "5b35771c-356e-4e0b-a997-682d1ea85c6a",
        "colab": {
          "base_uri": "https://localhost:8080/",
          "height": 84
        }
      },
      "source": [
        "!mkdir input\n",
        "#normal period\n",
        "!python gdrivedl.py https://drive.google.com/open?id=1rVJ5ry5GG-ZZi5yI4x9lICB8VhErXwCw input/\n",
        "#anomalies\n",
        "!python gdrivedl.py https://drive.google.com/open?id=1iDYc0OEmidN712fquOBRFjln90SbpaE7 input/"
      ],
      "execution_count": 6,
      "outputs": [
        {
          "output_type": "stream",
          "text": [
            "input/SWaT_Dataset_Normal_v1.csv\n",
            "[==================================================] 163.77MB/163.77MB\n",
            "input/SWaT_Dataset_Attack_v0.csv\n",
            "[==================================================] 127.27MB/127.27MB\n"
          ],
          "name": "stdout"
        }
      ]
    },
    {
      "cell_type": "markdown",
      "metadata": {
        "id": "kfSj4FYL9W8Y"
      },
      "source": [
        "### Normal period"
      ]
    },
    {
      "cell_type": "code",
      "metadata": {
        "id": "XeDLxV_r1G9n",
        "outputId": "576538dd-64f2-46fa-8e6f-6c2ffdebad15",
        "colab": {
          "base_uri": "https://localhost:8080/",
          "height": 87
        }
      },
      "source": [
        "#Read data\n",
        "normal = pd.read_csv(\"input/SWaT_Dataset_Normal_v1.csv\")#, nrows=1000)\n",
        "normal = normal.drop([\"Timestamp\" , \"Normal/Attack\" ] , axis = 1)\n",
        "normal.shape"
      ],
      "execution_count": null,
      "outputs": [
        {
          "output_type": "stream",
          "text": [
            "/usr/local/lib/python3.6/dist-packages/IPython/core/interactiveshell.py:2718: DtypeWarning: Columns (26) have mixed types.Specify dtype option on import or set low_memory=False.\n",
            "  interactivity=interactivity, compiler=compiler, result=result)\n"
          ],
          "name": "stderr"
        },
        {
          "output_type": "execute_result",
          "data": {
            "text/plain": [
              "(495000, 51)"
            ]
          },
          "metadata": {
            "tags": []
          },
          "execution_count": 14
        }
      ]
    },
    {
      "cell_type": "code",
      "metadata": {
        "id": "fFuLm1GH1G2n"
      },
      "source": [
        "# Transform all columns into float64\n",
        "for i in list(normal): \n",
        "    normal[i]=normal[i].apply(lambda x: str(x).replace(\",\" , \".\"))\n",
        "normal = normal.astype(float)"
      ],
      "execution_count": null,
      "outputs": []
    },
    {
      "cell_type": "markdown",
      "metadata": {
        "id": "zxFNH5kU9hIE"
      },
      "source": [
        "#### Normalization"
      ]
    },
    {
      "cell_type": "code",
      "metadata": {
        "id": "Mfxj4Uxn9kv4"
      },
      "source": [
        "from sklearn import preprocessing\n",
        "min_max_scaler = preprocessing.MinMaxScaler()\n",
        "\n",
        "x = normal.values\n",
        "x_scaled = min_max_scaler.fit_transform(x)\n",
        "normal = pd.DataFrame(x_scaled)"
      ],
      "execution_count": null,
      "outputs": []
    },
    {
      "cell_type": "code",
      "metadata": {
        "id": "mQ6_U4jn9nlw",
        "outputId": "f1cc1bd6-f1cc-4764-b1cc-2fd989ac4918",
        "colab": {
          "base_uri": "https://localhost:8080/",
          "height": 126
        }
      },
      "source": [
        "normal.head(2)"
      ],
      "execution_count": null,
      "outputs": [
        {
          "output_type": "execute_result",
          "data": {
            "text/html": [
              "<div>\n",
              "<style scoped>\n",
              "    .dataframe tbody tr th:only-of-type {\n",
              "        vertical-align: middle;\n",
              "    }\n",
              "\n",
              "    .dataframe tbody tr th {\n",
              "        vertical-align: top;\n",
              "    }\n",
              "\n",
              "    .dataframe thead th {\n",
              "        text-align: right;\n",
              "    }\n",
              "</style>\n",
              "<table border=\"1\" class=\"dataframe\">\n",
              "  <thead>\n",
              "    <tr style=\"text-align: right;\">\n",
              "      <th></th>\n",
              "      <th>0</th>\n",
              "      <th>1</th>\n",
              "      <th>2</th>\n",
              "      <th>3</th>\n",
              "      <th>4</th>\n",
              "      <th>5</th>\n",
              "      <th>6</th>\n",
              "      <th>7</th>\n",
              "      <th>8</th>\n",
              "      <th>9</th>\n",
              "      <th>10</th>\n",
              "      <th>11</th>\n",
              "      <th>12</th>\n",
              "      <th>13</th>\n",
              "      <th>14</th>\n",
              "      <th>15</th>\n",
              "      <th>16</th>\n",
              "      <th>17</th>\n",
              "      <th>18</th>\n",
              "      <th>19</th>\n",
              "      <th>20</th>\n",
              "      <th>21</th>\n",
              "      <th>22</th>\n",
              "      <th>23</th>\n",
              "      <th>24</th>\n",
              "      <th>25</th>\n",
              "      <th>26</th>\n",
              "      <th>27</th>\n",
              "      <th>28</th>\n",
              "      <th>29</th>\n",
              "      <th>30</th>\n",
              "      <th>31</th>\n",
              "      <th>32</th>\n",
              "      <th>33</th>\n",
              "      <th>34</th>\n",
              "      <th>35</th>\n",
              "      <th>36</th>\n",
              "      <th>37</th>\n",
              "      <th>38</th>\n",
              "      <th>39</th>\n",
              "      <th>40</th>\n",
              "      <th>41</th>\n",
              "      <th>42</th>\n",
              "      <th>43</th>\n",
              "      <th>44</th>\n",
              "      <th>45</th>\n",
              "      <th>46</th>\n",
              "      <th>47</th>\n",
              "      <th>48</th>\n",
              "      <th>49</th>\n",
              "      <th>50</th>\n",
              "    </tr>\n",
              "  </thead>\n",
              "  <tbody>\n",
              "    <tr>\n",
              "      <th>0</th>\n",
              "      <td>0.0</td>\n",
              "      <td>0.005294</td>\n",
              "      <td>0.5</td>\n",
              "      <td>0.0</td>\n",
              "      <td>0.0</td>\n",
              "      <td>0.012291</td>\n",
              "      <td>0.075099</td>\n",
              "      <td>0.002009</td>\n",
              "      <td>0.0</td>\n",
              "      <td>0.5</td>\n",
              "      <td>0.0</td>\n",
              "      <td>0.0</td>\n",
              "      <td>0.0</td>\n",
              "      <td>0.0</td>\n",
              "      <td>0.0</td>\n",
              "      <td>0.0</td>\n",
              "      <td>0.121378</td>\n",
              "      <td>0.000109</td>\n",
              "      <td>0.006449</td>\n",
              "      <td>0.5</td>\n",
              "      <td>0.5</td>\n",
              "      <td>0.5</td>\n",
              "      <td>0.5</td>\n",
              "      <td>0.0</td>\n",
              "      <td>0.0</td>\n",
              "      <td>0.0</td>\n",
              "      <td>0.188674</td>\n",
              "      <td>0.0</td>\n",
              "      <td>0.003962</td>\n",
              "      <td>0.0</td>\n",
              "      <td>0.0</td>\n",
              "      <td>0.0</td>\n",
              "      <td>0.0</td>\n",
              "      <td>0.0</td>\n",
              "      <td>0.067998</td>\n",
              "      <td>0.435224</td>\n",
              "      <td>0.275616</td>\n",
              "      <td>0.527549</td>\n",
              "      <td>0.000146</td>\n",
              "      <td>0.000565</td>\n",
              "      <td>0.0</td>\n",
              "      <td>0.0</td>\n",
              "      <td>0.0</td>\n",
              "      <td>0.0</td>\n",
              "      <td>0.000814</td>\n",
              "      <td>0.0</td>\n",
              "      <td>0.001217</td>\n",
              "      <td>0.000147</td>\n",
              "      <td>0.0</td>\n",
              "      <td>0.0</td>\n",
              "      <td>0.0</td>\n",
              "    </tr>\n",
              "    <tr>\n",
              "      <th>1</th>\n",
              "      <td>0.0</td>\n",
              "      <td>0.005407</td>\n",
              "      <td>0.5</td>\n",
              "      <td>0.0</td>\n",
              "      <td>0.0</td>\n",
              "      <td>0.012291</td>\n",
              "      <td>0.075099</td>\n",
              "      <td>0.002009</td>\n",
              "      <td>0.0</td>\n",
              "      <td>0.5</td>\n",
              "      <td>0.0</td>\n",
              "      <td>0.0</td>\n",
              "      <td>0.0</td>\n",
              "      <td>0.0</td>\n",
              "      <td>0.0</td>\n",
              "      <td>0.0</td>\n",
              "      <td>0.121378</td>\n",
              "      <td>0.000109</td>\n",
              "      <td>0.006722</td>\n",
              "      <td>0.5</td>\n",
              "      <td>0.5</td>\n",
              "      <td>0.5</td>\n",
              "      <td>0.5</td>\n",
              "      <td>0.0</td>\n",
              "      <td>0.0</td>\n",
              "      <td>0.0</td>\n",
              "      <td>0.188674</td>\n",
              "      <td>0.0</td>\n",
              "      <td>0.004138</td>\n",
              "      <td>0.0</td>\n",
              "      <td>0.0</td>\n",
              "      <td>0.0</td>\n",
              "      <td>0.0</td>\n",
              "      <td>0.0</td>\n",
              "      <td>0.067998</td>\n",
              "      <td>0.435224</td>\n",
              "      <td>0.275616</td>\n",
              "      <td>0.527549</td>\n",
              "      <td>0.000146</td>\n",
              "      <td>0.000565</td>\n",
              "      <td>0.0</td>\n",
              "      <td>0.0</td>\n",
              "      <td>0.0</td>\n",
              "      <td>0.0</td>\n",
              "      <td>0.000814</td>\n",
              "      <td>0.0</td>\n",
              "      <td>0.001217</td>\n",
              "      <td>0.000147</td>\n",
              "      <td>0.0</td>\n",
              "      <td>0.0</td>\n",
              "      <td>0.0</td>\n",
              "    </tr>\n",
              "  </tbody>\n",
              "</table>\n",
              "</div>"
            ],
            "text/plain": [
              "    0         1    2    3    4   ...        46        47   48   49   50\n",
              "0  0.0  0.005294  0.5  0.0  0.0  ...  0.001217  0.000147  0.0  0.0  0.0\n",
              "1  0.0  0.005407  0.5  0.0  0.0  ...  0.001217  0.000147  0.0  0.0  0.0\n",
              "\n",
              "[2 rows x 51 columns]"
            ]
          },
          "metadata": {
            "tags": []
          },
          "execution_count": 17
        }
      ]
    },
    {
      "cell_type": "markdown",
      "metadata": {
        "id": "_i71RFAi9spa"
      },
      "source": [
        "### Attack"
      ]
    },
    {
      "cell_type": "code",
      "metadata": {
        "id": "aN_TFp5x9uTE",
        "outputId": "38d7993d-c9a3-461d-c430-ebde697afbc6",
        "colab": {
          "base_uri": "https://localhost:8080/",
          "height": 87
        }
      },
      "source": [
        "#Read data\n",
        "attack = pd.read_csv(\"input/SWaT_Dataset_Attack_v0.csv\",sep=\";\")#, nrows=1000)\n",
        "attack = attack.drop([\"Timestamp\" , \"Normal/Attack\" ] , axis = 1)\n",
        "attack.shape"
      ],
      "execution_count": null,
      "outputs": [
        {
          "output_type": "stream",
          "text": [
            "/usr/local/lib/python3.6/dist-packages/IPython/core/interactiveshell.py:2718: DtypeWarning: Columns (1,9,28,46) have mixed types.Specify dtype option on import or set low_memory=False.\n",
            "  interactivity=interactivity, compiler=compiler, result=result)\n"
          ],
          "name": "stderr"
        },
        {
          "output_type": "execute_result",
          "data": {
            "text/plain": [
              "(449919, 51)"
            ]
          },
          "metadata": {
            "tags": []
          },
          "execution_count": 18
        }
      ]
    },
    {
      "cell_type": "code",
      "metadata": {
        "id": "qLCInT-I9_-D"
      },
      "source": [
        "# Transform all columns into float64\n",
        "for i in list(attack):\n",
        "    attack[i]=attack[i].apply(lambda x: str(x).replace(\",\" , \".\"))\n",
        "attack = attack.astype(float)"
      ],
      "execution_count": null,
      "outputs": []
    },
    {
      "cell_type": "markdown",
      "metadata": {
        "id": "c4cB4v3N-Dhu"
      },
      "source": [
        "#### Normalization"
      ]
    },
    {
      "cell_type": "code",
      "metadata": {
        "id": "jZrha9cO-BGK"
      },
      "source": [
        "from sklearn import preprocessing\n",
        "\n",
        "x = attack.values \n",
        "x_scaled = min_max_scaler.transform(x)\n",
        "attack = pd.DataFrame(x_scaled)"
      ],
      "execution_count": null,
      "outputs": []
    },
    {
      "cell_type": "code",
      "metadata": {
        "id": "z9SwiPco-BUa",
        "outputId": "f2507282-c0f9-4253-ece7-0a802b68240f",
        "colab": {
          "base_uri": "https://localhost:8080/",
          "height": 126
        }
      },
      "source": [
        "attack.head(2)"
      ],
      "execution_count": null,
      "outputs": [
        {
          "output_type": "execute_result",
          "data": {
            "text/html": [
              "<div>\n",
              "<style scoped>\n",
              "    .dataframe tbody tr th:only-of-type {\n",
              "        vertical-align: middle;\n",
              "    }\n",
              "\n",
              "    .dataframe tbody tr th {\n",
              "        vertical-align: top;\n",
              "    }\n",
              "\n",
              "    .dataframe thead th {\n",
              "        text-align: right;\n",
              "    }\n",
              "</style>\n",
              "<table border=\"1\" class=\"dataframe\">\n",
              "  <thead>\n",
              "    <tr style=\"text-align: right;\">\n",
              "      <th></th>\n",
              "      <th>0</th>\n",
              "      <th>1</th>\n",
              "      <th>2</th>\n",
              "      <th>3</th>\n",
              "      <th>4</th>\n",
              "      <th>5</th>\n",
              "      <th>6</th>\n",
              "      <th>7</th>\n",
              "      <th>8</th>\n",
              "      <th>9</th>\n",
              "      <th>10</th>\n",
              "      <th>11</th>\n",
              "      <th>12</th>\n",
              "      <th>13</th>\n",
              "      <th>14</th>\n",
              "      <th>15</th>\n",
              "      <th>16</th>\n",
              "      <th>17</th>\n",
              "      <th>18</th>\n",
              "      <th>19</th>\n",
              "      <th>20</th>\n",
              "      <th>21</th>\n",
              "      <th>22</th>\n",
              "      <th>23</th>\n",
              "      <th>24</th>\n",
              "      <th>25</th>\n",
              "      <th>26</th>\n",
              "      <th>27</th>\n",
              "      <th>28</th>\n",
              "      <th>29</th>\n",
              "      <th>30</th>\n",
              "      <th>31</th>\n",
              "      <th>32</th>\n",
              "      <th>33</th>\n",
              "      <th>34</th>\n",
              "      <th>35</th>\n",
              "      <th>36</th>\n",
              "      <th>37</th>\n",
              "      <th>38</th>\n",
              "      <th>39</th>\n",
              "      <th>40</th>\n",
              "      <th>41</th>\n",
              "      <th>42</th>\n",
              "      <th>43</th>\n",
              "      <th>44</th>\n",
              "      <th>45</th>\n",
              "      <th>46</th>\n",
              "      <th>47</th>\n",
              "      <th>48</th>\n",
              "      <th>49</th>\n",
              "      <th>50</th>\n",
              "    </tr>\n",
              "  </thead>\n",
              "  <tbody>\n",
              "    <tr>\n",
              "      <th>0</th>\n",
              "      <td>0.884144</td>\n",
              "      <td>0.577133</td>\n",
              "      <td>1.0</td>\n",
              "      <td>1.0</td>\n",
              "      <td>0.0</td>\n",
              "      <td>0.496158</td>\n",
              "      <td>0.188845</td>\n",
              "      <td>0.064088</td>\n",
              "      <td>0.982899</td>\n",
              "      <td>1.0</td>\n",
              "      <td>0.0</td>\n",
              "      <td>0.0</td>\n",
              "      <td>1.0</td>\n",
              "      <td>0.0</td>\n",
              "      <td>1.0</td>\n",
              "      <td>0.0</td>\n",
              "      <td>0.935973</td>\n",
              "      <td>0.935586</td>\n",
              "      <td>0.9336</td>\n",
              "      <td>0.5</td>\n",
              "      <td>1.0</td>\n",
              "      <td>0.5</td>\n",
              "      <td>0.5</td>\n",
              "      <td>0.0</td>\n",
              "      <td>1.0</td>\n",
              "      <td>0.999677</td>\n",
              "      <td>0.02816</td>\n",
              "      <td>0.980350</td>\n",
              "      <td>0.929175</td>\n",
              "      <td>0.0</td>\n",
              "      <td>1.0</td>\n",
              "      <td>0.0</td>\n",
              "      <td>0.0</td>\n",
              "      <td>1.0</td>\n",
              "      <td>0.909544</td>\n",
              "      <td>0.036437</td>\n",
              "      <td>0.398564</td>\n",
              "      <td>0.02134</td>\n",
              "      <td>0.980663</td>\n",
              "      <td>0.939499</td>\n",
              "      <td>0.962702</td>\n",
              "      <td>0.970903</td>\n",
              "      <td>1.0</td>\n",
              "      <td>0.0</td>\n",
              "      <td>0.946125</td>\n",
              "      <td>0.449782</td>\n",
              "      <td>0.944116</td>\n",
              "      <td>0.000073</td>\n",
              "      <td>0.0</td>\n",
              "      <td>0.0</td>\n",
              "      <td>0.0</td>\n",
              "    </tr>\n",
              "    <tr>\n",
              "      <th>1</th>\n",
              "      <td>0.891145</td>\n",
              "      <td>0.577190</td>\n",
              "      <td>1.0</td>\n",
              "      <td>1.0</td>\n",
              "      <td>0.0</td>\n",
              "      <td>0.496158</td>\n",
              "      <td>0.188845</td>\n",
              "      <td>0.064088</td>\n",
              "      <td>0.982899</td>\n",
              "      <td>1.0</td>\n",
              "      <td>0.0</td>\n",
              "      <td>0.0</td>\n",
              "      <td>1.0</td>\n",
              "      <td>0.0</td>\n",
              "      <td>1.0</td>\n",
              "      <td>0.0</td>\n",
              "      <td>0.935973</td>\n",
              "      <td>0.936183</td>\n",
              "      <td>0.9336</td>\n",
              "      <td>0.5</td>\n",
              "      <td>1.0</td>\n",
              "      <td>0.5</td>\n",
              "      <td>0.5</td>\n",
              "      <td>0.0</td>\n",
              "      <td>1.0</td>\n",
              "      <td>0.999677</td>\n",
              "      <td>0.02816</td>\n",
              "      <td>0.981743</td>\n",
              "      <td>0.929131</td>\n",
              "      <td>0.0</td>\n",
              "      <td>1.0</td>\n",
              "      <td>0.0</td>\n",
              "      <td>0.0</td>\n",
              "      <td>1.0</td>\n",
              "      <td>0.909544</td>\n",
              "      <td>0.036437</td>\n",
              "      <td>0.398564</td>\n",
              "      <td>0.02134</td>\n",
              "      <td>0.980663</td>\n",
              "      <td>0.952672</td>\n",
              "      <td>0.962702</td>\n",
              "      <td>0.970903</td>\n",
              "      <td>1.0</td>\n",
              "      <td>0.0</td>\n",
              "      <td>0.946125</td>\n",
              "      <td>0.449782</td>\n",
              "      <td>0.944521</td>\n",
              "      <td>0.000073</td>\n",
              "      <td>0.0</td>\n",
              "      <td>0.0</td>\n",
              "      <td>0.0</td>\n",
              "    </tr>\n",
              "  </tbody>\n",
              "</table>\n",
              "</div>"
            ],
            "text/plain": [
              "         0         1    2    3    4   ...        46        47   48   49   50\n",
              "0  0.884144  0.577133  1.0  1.0  0.0  ...  0.944116  0.000073  0.0  0.0  0.0\n",
              "1  0.891145  0.577190  1.0  1.0  0.0  ...  0.944521  0.000073  0.0  0.0  0.0\n",
              "\n",
              "[2 rows x 51 columns]"
            ]
          },
          "metadata": {
            "tags": []
          },
          "execution_count": 21
        }
      ]
    },
    {
      "cell_type": "markdown",
      "metadata": {
        "id": "xXJi503b-j_d"
      },
      "source": [
        "### Windows"
      ]
    },
    {
      "cell_type": "code",
      "metadata": {
        "id": "vyplttZa-BRN"
      },
      "source": [
        "window_size=12"
      ],
      "execution_count": null,
      "outputs": []
    },
    {
      "cell_type": "code",
      "metadata": {
        "id": "dzGJMp6Y-BN5",
        "outputId": "2949d278-1313-442c-f06b-275a8c6c6578",
        "colab": {
          "base_uri": "https://localhost:8080/",
          "height": 34
        }
      },
      "source": [
        "windows_normal=normal.values[np.arange(window_size)[None, :] + np.arange(normal.shape[0]-window_size)[:, None]]\n",
        "windows_normal.shape"
      ],
      "execution_count": null,
      "outputs": [
        {
          "output_type": "execute_result",
          "data": {
            "text/plain": [
              "(494988, 12, 51)"
            ]
          },
          "metadata": {
            "tags": []
          },
          "execution_count": 23
        }
      ]
    },
    {
      "cell_type": "code",
      "metadata": {
        "id": "17LdB3c8-pRH",
        "outputId": "721059d4-5937-4dd3-d73c-e5d255fc273c",
        "colab": {
          "base_uri": "https://localhost:8080/",
          "height": 34
        }
      },
      "source": [
        "windows_attack=attack.values[np.arange(window_size)[None, :] + np.arange(attack.shape[0]-window_size)[:, None]]\n",
        "windows_attack.shape"
      ],
      "execution_count": null,
      "outputs": [
        {
          "output_type": "execute_result",
          "data": {
            "text/plain": [
              "(449907, 12, 51)"
            ]
          },
          "metadata": {
            "tags": []
          },
          "execution_count": 24
        }
      ]
    },
    {
      "cell_type": "markdown",
      "metadata": {
        "id": "k70ZFxGs-_7m"
      },
      "source": [
        "## Training"
      ]
    },
    {
      "cell_type": "code",
      "metadata": {
        "id": "yi9S0SGnDKNc"
      },
      "source": [
        "import torch.utils.data as data_utils\n",
        "\n",
        "BATCH_SIZE =  7919\n",
        "N_EPOCHS = 100\n",
        "hidden_size = 10\n",
        "\n",
        "w_size=windows_normal.shape[1]*windows_normal.shape[2]\n",
        "z_size=windows_normal.shape[1]*hidden_size\n",
        "\n",
        "windows_normal_train = windows_normal[:int(np.floor(.8 * .5 * windows_normal.shape[0]))]\n",
        "windows_normal_val = windows_normal[int(np.floor(.8 * .5 * windows_normal.shape[0])):int(np.floor(.5 * windows_normal.shape[0]))]\n",
        "windows_normal_test = windows_normal[int(np.floor(.5 * windows_normal.shape[0])):]\n",
        "\n",
        "train_loader = torch.utils.data.DataLoader(data_utils.TensorDataset(\n",
        "    torch.from_numpy(windows_normal_train).float().view(([windows_normal_train.shape[0],w_size]))\n",
        ") , batch_size=BATCH_SIZE, shuffle=False, num_workers=0)\n",
        "\n",
        "val_loader = torch.utils.data.DataLoader(data_utils.TensorDataset(\n",
        "    torch.from_numpy(windows_normal_val).float().view(([windows_normal_val.shape[0],w_size]))\n",
        ") , batch_size=BATCH_SIZE, shuffle=False, num_workers=0)\n",
        "\n",
        "test_loader = torch.utils.data.DataLoader(data_utils.TensorDataset(\n",
        "    torch.from_numpy(np.concatenate([windows_normal_test,windows_attack])).float().view(([windows_normal_test.shape[0]+windows_attack.shape[0],w_size]))\n",
        ") , batch_size=BATCH_SIZE, shuffle=False, num_workers=0)\n",
        "\n",
        "model = UsadModel(w_size, z_size)\n",
        "model = to_device(model,device)"
      ],
      "execution_count": null,
      "outputs": []
    },
    {
      "cell_type": "code",
      "metadata": {
        "id": "So9yjDPEDObC",
        "outputId": "629bcd13-37b1-4907-ef0d-46d9e3ad5398",
        "colab": {
          "base_uri": "https://localhost:8080/",
          "height": 1000
        }
      },
      "source": [
        "history = training(N_EPOCHS,model,train_loader,val_loader)"
      ],
      "execution_count": null,
      "outputs": [
        {
          "output_type": "stream",
          "text": [
            "Epoch [0], val_loss1: 0.0647, val_loss2: 0.0686\n",
            "Epoch [1], val_loss1: 0.0395, val_loss2: -0.0014\n",
            "Epoch [2], val_loss1: 0.0331, val_loss2: -0.0130\n",
            "Epoch [3], val_loss1: 0.0356, val_loss2: -0.0201\n",
            "Epoch [4], val_loss1: 0.0362, val_loss2: -0.0236\n",
            "Epoch [5], val_loss1: 0.0360, val_loss2: -0.0255\n",
            "Epoch [6], val_loss1: 0.0347, val_loss2: -0.0263\n",
            "Epoch [7], val_loss1: 0.0325, val_loss2: -0.0254\n",
            "Epoch [8], val_loss1: 0.0332, val_loss2: -0.0270\n",
            "Epoch [9], val_loss1: 0.0351, val_loss2: -0.0292\n",
            "Epoch [10], val_loss1: 0.0339, val_loss2: -0.0287\n",
            "Epoch [11], val_loss1: 0.0323, val_loss2: -0.0276\n",
            "Epoch [12], val_loss1: 0.0182, val_loss2: -0.0156\n",
            "Epoch [13], val_loss1: 0.0174, val_loss2: -0.0150\n",
            "Epoch [14], val_loss1: 0.0164, val_loss2: -0.0144\n",
            "Epoch [15], val_loss1: 0.0179, val_loss2: -0.0158\n",
            "Epoch [16], val_loss1: 0.0183, val_loss2: -0.0164\n",
            "Epoch [17], val_loss1: 0.0174, val_loss2: -0.0158\n",
            "Epoch [18], val_loss1: 0.0131, val_loss2: -0.0118\n",
            "Epoch [19], val_loss1: 0.0128, val_loss2: -0.0115\n",
            "Epoch [20], val_loss1: 0.0127, val_loss2: -0.0115\n",
            "Epoch [21], val_loss1: 0.0129, val_loss2: -0.0117\n",
            "Epoch [22], val_loss1: 0.0131, val_loss2: -0.0120\n",
            "Epoch [23], val_loss1: 0.0130, val_loss2: -0.0119\n",
            "Epoch [24], val_loss1: 0.0131, val_loss2: -0.0121\n",
            "Epoch [25], val_loss1: 0.0128, val_loss2: -0.0119\n",
            "Epoch [26], val_loss1: 0.0111, val_loss2: -0.0102\n",
            "Epoch [27], val_loss1: 0.0139, val_loss2: -0.0130\n",
            "Epoch [28], val_loss1: 0.0124, val_loss2: -0.0116\n",
            "Epoch [29], val_loss1: 0.0124, val_loss2: -0.0116\n",
            "Epoch [30], val_loss1: 0.0126, val_loss2: -0.0118\n",
            "Epoch [31], val_loss1: 0.0122, val_loss2: -0.0115\n",
            "Epoch [32], val_loss1: 0.0120, val_loss2: -0.0113\n",
            "Epoch [33], val_loss1: 0.0116, val_loss2: -0.0110\n",
            "Epoch [34], val_loss1: 0.0121, val_loss2: -0.0114\n",
            "Epoch [35], val_loss1: 0.0118, val_loss2: -0.0112\n",
            "Epoch [36], val_loss1: 0.0119, val_loss2: -0.0113\n",
            "Epoch [37], val_loss1: 0.0112, val_loss2: -0.0107\n",
            "Epoch [38], val_loss1: 0.0098, val_loss2: -0.0093\n",
            "Epoch [39], val_loss1: 0.0094, val_loss2: -0.0089\n",
            "Epoch [40], val_loss1: 0.0092, val_loss2: -0.0087\n",
            "Epoch [41], val_loss1: 0.0094, val_loss2: -0.0090\n",
            "Epoch [42], val_loss1: 0.0090, val_loss2: -0.0086\n",
            "Epoch [43], val_loss1: 0.0090, val_loss2: -0.0086\n",
            "Epoch [44], val_loss1: 0.0088, val_loss2: -0.0085\n",
            "Epoch [45], val_loss1: 0.0122, val_loss2: -0.0117\n",
            "Epoch [46], val_loss1: 0.0113, val_loss2: -0.0109\n",
            "Epoch [47], val_loss1: 0.0114, val_loss2: -0.0110\n",
            "Epoch [48], val_loss1: 0.0103, val_loss2: -0.0099\n",
            "Epoch [49], val_loss1: 0.0092, val_loss2: -0.0089\n",
            "Epoch [50], val_loss1: 0.0088, val_loss2: -0.0085\n",
            "Epoch [51], val_loss1: 0.0084, val_loss2: -0.0081\n",
            "Epoch [52], val_loss1: 0.0077, val_loss2: -0.0075\n",
            "Epoch [53], val_loss1: 0.0080, val_loss2: -0.0077\n",
            "Epoch [54], val_loss1: 0.0097, val_loss2: -0.0094\n",
            "Epoch [55], val_loss1: 0.0102, val_loss2: -0.0099\n",
            "Epoch [56], val_loss1: 0.0073, val_loss2: -0.0071\n",
            "Epoch [57], val_loss1: 0.0072, val_loss2: -0.0070\n",
            "Epoch [58], val_loss1: 0.0090, val_loss2: -0.0088\n",
            "Epoch [59], val_loss1: 0.0084, val_loss2: -0.0082\n",
            "Epoch [60], val_loss1: 0.0078, val_loss2: -0.0076\n",
            "Epoch [61], val_loss1: 0.0064, val_loss2: -0.0062\n",
            "Epoch [62], val_loss1: 0.0059, val_loss2: -0.0057\n",
            "Epoch [63], val_loss1: 0.0061, val_loss2: -0.0059\n",
            "Epoch [64], val_loss1: 0.0058, val_loss2: -0.0056\n",
            "Epoch [65], val_loss1: 0.0057, val_loss2: -0.0055\n",
            "Epoch [66], val_loss1: 0.0058, val_loss2: -0.0057\n",
            "Epoch [67], val_loss1: 0.0060, val_loss2: -0.0058\n",
            "Epoch [68], val_loss1: 0.0057, val_loss2: -0.0056\n",
            "Epoch [69], val_loss1: 0.0054, val_loss2: -0.0052\n",
            "Epoch [70], val_loss1: 0.0059, val_loss2: -0.0057\n",
            "Epoch [71], val_loss1: 0.0061, val_loss2: -0.0060\n",
            "Epoch [72], val_loss1: 0.0057, val_loss2: -0.0056\n",
            "Epoch [73], val_loss1: 0.0053, val_loss2: -0.0052\n",
            "Epoch [74], val_loss1: 0.0056, val_loss2: -0.0054\n",
            "Epoch [75], val_loss1: 0.0058, val_loss2: -0.0057\n",
            "Epoch [76], val_loss1: 0.0061, val_loss2: -0.0059\n",
            "Epoch [77], val_loss1: 0.0061, val_loss2: -0.0060\n",
            "Epoch [78], val_loss1: 0.0069, val_loss2: -0.0067\n",
            "Epoch [79], val_loss1: 0.0059, val_loss2: -0.0058\n",
            "Epoch [80], val_loss1: 0.0055, val_loss2: -0.0054\n",
            "Epoch [81], val_loss1: 0.0051, val_loss2: -0.0050\n",
            "Epoch [82], val_loss1: 0.0062, val_loss2: -0.0060\n",
            "Epoch [83], val_loss1: 0.0060, val_loss2: -0.0059\n",
            "Epoch [84], val_loss1: 0.0053, val_loss2: -0.0052\n",
            "Epoch [85], val_loss1: 0.0055, val_loss2: -0.0053\n",
            "Epoch [86], val_loss1: 0.0062, val_loss2: -0.0061\n",
            "Epoch [87], val_loss1: 0.0063, val_loss2: -0.0062\n",
            "Epoch [88], val_loss1: 0.0052, val_loss2: -0.0051\n",
            "Epoch [89], val_loss1: 0.0046, val_loss2: -0.0045\n",
            "Epoch [90], val_loss1: 0.0053, val_loss2: -0.0052\n",
            "Epoch [91], val_loss1: 0.0062, val_loss2: -0.0060\n",
            "Epoch [92], val_loss1: 0.0057, val_loss2: -0.0056\n",
            "Epoch [93], val_loss1: 0.0055, val_loss2: -0.0054\n",
            "Epoch [94], val_loss1: 0.0058, val_loss2: -0.0057\n",
            "Epoch [95], val_loss1: 0.0041, val_loss2: -0.0040\n",
            "Epoch [96], val_loss1: 0.0042, val_loss2: -0.0042\n",
            "Epoch [97], val_loss1: 0.0051, val_loss2: -0.0050\n",
            "Epoch [98], val_loss1: 0.0046, val_loss2: -0.0045\n",
            "Epoch [99], val_loss1: 0.0043, val_loss2: -0.0043\n"
          ],
          "name": "stdout"
        }
      ]
    },
    {
      "cell_type": "code",
      "metadata": {
        "id": "fYwlN0JKVVtN",
        "outputId": "c742ff8b-3b4a-41f5-dd09-effee1be928a",
        "colab": {
          "base_uri": "https://localhost:8080/",
          "height": 295
        }
      },
      "source": [
        "plot_history(history)"
      ],
      "execution_count": null,
      "outputs": [
        {
          "output_type": "display_data",
          "data": {
            "image/png": "[encoded data removed]",
            "text/plain": [
              "<Figure size 432x288 with 1 Axes>"
            ]
          },
          "metadata": {
            "tags": [],
            "needs_background": "light"
          }
        }
      ]
    },
    {
      "cell_type": "code",
      "metadata": {
        "id": "ieObNqKYsOzh"
      },
      "source": [
        "torch.save({\n",
        "            'encoder': model.encoder.state_dict(),\n",
        "            'decoder1': model.decoder1.state_dict(),\n",
        "            'decoder2': model.decoder2.state_dict()\n",
        "            }, \"model.pth\")"
      ],
      "execution_count": null,
      "outputs": []
    },
    {
      "cell_type": "markdown",
      "metadata": {
        "id": "ymhjbmvR_DgJ"
      },
      "source": [
        "## Testing"
      ]
    },
    {
      "cell_type": "code",
      "metadata": {
        "id": "b7rbm9wdXKeF",
        "outputId": "076309c7-22be-41f6-f916-5f11cb679672",
        "colab": {
          "base_uri": "https://localhost:8080/",
          "height": 34
        }
      },
      "source": [
        "checkpoint = torch.load(\"model.pth\")\n",
        "\n",
        "model.encoder.load_state_dict(checkpoint['encoder'])\n",
        "model.decoder1.load_state_dict(checkpoint['decoder1'])\n",
        "model.decoder2.load_state_dict(checkpoint['decoder2'])"
      ],
      "execution_count": null,
      "outputs": [
        {
          "output_type": "execute_result",
          "data": {
            "text/plain": [
              "<All keys matched successfully>"
            ]
          },
          "metadata": {
            "tags": []
          },
          "execution_count": 27
        }
      ]
    },
    {
      "cell_type": "code",
      "metadata": {
        "id": "Ry1QTp6V2ny4"
      },
      "source": [
        "results=testing(model,test_loader)"
      ],
      "execution_count": null,
      "outputs": []
    },
    {
      "cell_type": "code",
      "metadata": {
        "id": "FSWwxheNvxR7"
      },
      "source": [
        "y_pred=np.concatenate([torch.stack(results[:-1]).flatten().detach().cpu().numpy(),\n",
        "                              results[-1].flatten().detach().cpu().numpy()])\n",
        "y_test=np.concatenate([np.zeros(windows_normal_test.shape[0]),\n",
        "                       np.ones(windows_attack.shape[0])])"
      ],
      "execution_count": null,
      "outputs": []
    },
    {
      "cell_type": "code",
      "metadata": {
        "id": "S6R9tL9PJc9A",
        "outputId": "ef92dc99-7990-46d3-b049-70ef9f10f738",
        "colab": {
          "base_uri": "https://localhost:8080/",
          "height": 395
        }
      },
      "source": [
        "histogram(y_test,y_pred)"
      ],
      "execution_count": null,
      "outputs": [
        {
          "output_type": "display_data",
          "data": {
            "image/png": "[encoded data removed]",
            "text/plain": [
              "<Figure size 864x432 with 1 Axes>"
            ]
          },
          "metadata": {
            "tags": [],
            "needs_background": "light"
          }
        }
      ]
    },
    {
      "cell_type": "code",
      "metadata": {
        "id": "bROUyLM93cG3",
        "outputId": "755359d9-d0fb-4deb-b313-d3c2a2465a26",
        "colab": {
          "base_uri": "https://localhost:8080/",
          "height": 279
        }
      },
      "source": [
        "threshold=ROC(y_test,y_pred)"
      ],
      "execution_count": null,
      "outputs": [
        {
          "output_type": "display_data",
          "data": {
            "image/png": "[encoded data removed]",
            "text/plain": [
              "<Figure size 432x288 with 1 Axes>"
            ]
          },
          "metadata": {
            "tags": [],
            "needs_background": "light"
          }
        }
      ]
    },
    {
      "cell_type": "code",
      "metadata": {
        "id": "8CbQmMjCIl1_",
        "outputId": "25c93a9e-9c5d-449e-8b77-2cc906b269f0",
        "colab": {
          "base_uri": "https://localhost:8080/",
          "height": 279
        }
      },
      "source": [
        "confusion_matrix(y_test,np.where(y_pred > threshold, 1, 0),perc=True)"
      ],
      "execution_count": null,
      "outputs": [
        {
          "output_type": "display_data",
          "data": {
            "image/png": "[encoded data removed]",
            "text/plain": [
              "<Figure size 432x288 with 2 Axes>"
            ]
          },
          "metadata": {
            "tags": [],
            "needs_background": "light"
          }
        }
      ]
    }
  ]
}